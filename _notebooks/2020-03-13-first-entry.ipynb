{
 "cells": [
  {
   "cell_type": "markdown",
   "metadata": {},
   "source": [
    "# My very first blog entry - No Soy De Aqui, Ni Soy De Alla\n",
    "> It took a pandemics to get me started, but here I am!\n",
    "\n",
    "- toc: false \n",
    "- badges: false\n",
    "- comments: true\n",
    "- categories: [jupyter]\n"
   ]
  },
  {
   "cell_type": "markdown",
   "metadata": {},
   "source": [
    "It's been ages since I've been thinking to start a blog. To keep in touch with my friends, to express my thoughts, to write when I am at night. Several times I looked into the easiest ways to get started. It took a pandemic (covid19) and [fastpages](https://github.com/fastai/fastpages) to get me started, but here I am! (fastpages is awesome, check it out). "
   ]
  },
  {
   "cell_type": "markdown",
   "metadata": {},
   "source": [
    "Last summer, when I went back to Romania after a 12 year gap, it was striking how much I felt like a visitor. But not really a visitor, because I'm attached to those places, the mindset, that way of being. And while I was staying up at night, I realized that my identity is dominated by me being an immigrant, a STEM immigrant. And I decided that moment that when I start my blog, that's going to be the theme. \n",
    "\n",
    "I plan to write regularly, maybe a post a week, on average. I will add one music clip to each post. Music is universal, it touches us more than maybe any other form of art. I also hope music is accessible. \n",
    "\n",
    "The reality of my existence is that I will not feel at home anywhere. I am married to a Brazilian, I have a small American at home, we currently live in a suburb of New York city. The only thing we have in common is our diversity. \n",
    "\n",
    "When I heard Madeleine Payroux playing this song live, I understood that the lyrics define exactly the raw emotions I feel about who I am. Enjoy! \n",
    "\n",
    "```No soy de aquí, ni soy de allá\n",
    "No tengo edad, ni porvenir\n",
    "Y ser feliz es mi color de identidad```"
   ]
  },
  {
   "cell_type": "markdown",
   "metadata": {},
   "source": [
    "> youtube: https://www.youtube.com/watch?v=rZ5jll-RZUM"
   ]
  },
  {
   "cell_type": "code",
   "execution_count": null,
   "metadata": {},
   "outputs": [],
   "source": []
  }
 ],
 "metadata": {
  "kernelspec": {
   "display_name": "Python 3",
   "language": "python",
   "name": "python3"
  },
  "language_info": {
   "codemirror_mode": {
    "name": "ipython",
    "version": 3
   },
   "file_extension": ".py",
   "mimetype": "text/x-python",
   "name": "python",
   "nbconvert_exporter": "python",
   "pygments_lexer": "ipython3",
   "version": "3.7.3"
  }
 },
 "nbformat": 4,
 "nbformat_minor": 2
}
